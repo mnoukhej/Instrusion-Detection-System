{
 "cells": [
  {
   "cell_type": "code",
   "execution_count": 1,
   "id": "317dfe98",
   "metadata": {},
   "outputs": [],
   "source": [
    "import pandas as pd\n",
    "import numpy as np\n",
    "import sys\n",
    "import sklearn\n",
    "import io\n",
    "import random\n",
    "import time\n",
    "from sklearn.svm import SVC\n",
    "from sklearn.naive_bayes import GaussianNB \n",
    "from sklearn.model_selection import cross_val_score\n",
    "from sklearn import metrics\n",
    "from sklearn import preprocessing\n",
    "\n",
    "\n",
    "\n"
   ]
  },
  {
   "cell_type": "code",
   "execution_count": 2,
   "id": "ef132a34",
   "metadata": {},
   "outputs": [],
   "source": [
    "train_url = 'NSL_KDD_Train.csv'\n",
    "test_url = 'NSL_KDD_Test.csv'"
   ]
  },
  {
   "cell_type": "code",
   "execution_count": null,
   "id": "5c2414bb",
   "metadata": {},
   "outputs": [],
   "source": [
    "col_names = [\"duration\",\"protocol_type\",\"service\",\"flag\",\"src_bytes\",\n",
    "    \"dst_bytes\",\"land\",\"wrong_fragment\",\"urgent\",\"hot\",\"num_failed_logins\",\n",
    "    \"logged_in\",\"num_compromised\",\"root_shell\",\"su_attempted\",\"num_root\",\n",
    "    \"num_file_creations\",\"num_shells\",\"num_access_files\",\"num_outbound_cmds\",\n",
    "    \"is_host_login\",\"is_guest_login\",\"count\",\"srv_count\",\"serror_rate\",\n",
    "    \"srv_serror_rate\",\"rerror_rate\",\"srv_rerror_rate\",\"same_srv_rate\",\n",
    "    \"diff_srv_rate\",\"srv_diff_host_rate\",\"dst_host_count\",\"dst_host_srv_count\",\n",
    "    \"dst_host_same_srv_rate\",\"dst_host_diff_srv_rate\",\"dst_host_same_src_port_rate\",\n",
    "    \"dst_host_srv_diff_host_rate\",\"dst_host_serror_rate\",\"dst_host_srv_serror_rate\",\n",
    "    \"dst_host_rerror_rate\",\"dst_host_srv_rerror_rate\",\"label\"]\n",
    "\n",
    "\n",
    "df = pd.read_csv(train_url,header=None, names = col_names)\n",
    "\n",
    "df_test = pd.read_csv(test_url, header=None, names = col_names)\n",
    "\n",
    "print('Dimensions of the Training set:',df.shape)\n",
    "print('Dimensions of the Test set:',df_test.shape)"
   ]
  },
  {
   "cell_type": "code",
   "execution_count": null,
   "id": "a642f2b0",
   "metadata": {},
   "outputs": [],
   "source": [
    "df.head()"
   ]
  },
  {
   "cell_type": "code",
   "execution_count": null,
   "id": "2f1741ec",
   "metadata": {},
   "outputs": [],
   "source": [
    "print('Label distribution Training set:')\n",
    "print(df['label'].value_counts())\n",
    "print()\n",
    "print('Label distribution Test set:')\n",
    "print(df_test['label'].value_counts())"
   ]
  },
  {
   "cell_type": "code",
   "execution_count": null,
   "id": "e819124c",
   "metadata": {},
   "outputs": [],
   "source": [
    "# protocol_type (column 2), service (column 3), flag (column 4).\n",
    "\n",
    "print('Training set:')\n",
    "for col_name in df.columns:\n",
    "    if df[col_name].dtypes == 'object' :\n",
    "        unique_cat = len(df[col_name].unique())\n",
    "        print(\"Feature '{col_name}' has {unique_cat} categories\".format(col_name=col_name, unique_cat=unique_cat))\n",
    "\n",
    "print()\n",
    "print('Distribution of categories in service:')\n",
    "print(df['service'].value_counts().sort_values(ascending=False).head())"
   ]
  },
  {
   "cell_type": "code",
   "execution_count": null,
   "id": "4bd365fe",
   "metadata": {},
   "outputs": [],
   "source": [
    "# Test set\n",
    "print('Test set:')\n",
    "for col_name in df_test.columns:\n",
    "    if df_test[col_name].dtypes == 'object' :\n",
    "        unique_cat = len(df_test[col_name].unique())\n",
    "        print(\"Feature '{col_name}' has {unique_cat} categories\".format(col_name=col_name, unique_cat=unique_cat))"
   ]
  },
  {
   "cell_type": "code",
   "execution_count": null,
   "id": "9893a91b",
   "metadata": {},
   "outputs": [],
   "source": [
    "from sklearn.preprocessing import LabelEncoder,OneHotEncoder\n",
    "categorical_columns=['protocol_type', 'service', 'flag']\n",
    "\n",
    "df_categorical_values = df[categorical_columns]\n",
    "testdf_categorical_values = df_test[categorical_columns]\n",
    "\n",
    "df_categorical_values.head()"
   ]
  },
  {
   "cell_type": "code",
   "execution_count": null,
   "id": "0ec0b301",
   "metadata": {},
   "outputs": [],
   "source": [
    "# protocol type\n",
    "unique_protocol=sorted(df.protocol_type.unique())\n",
    "string1 = 'Protocol_type_'\n",
    "unique_protocol2=[string1 + x for x in unique_protocol]\n",
    "print(unique_protocol2)\n",
    "\n",
    "# service\n",
    "unique_service=sorted(df.service.unique())\n",
    "string2 = 'service_'\n",
    "unique_service2=[string2 + x for x in unique_service]\n",
    "print(unique_service2)\n",
    "\n",
    "\n",
    "# flag\n",
    "unique_flag=sorted(df.flag.unique())\n",
    "string3 = 'flag_'\n",
    "unique_flag2=[string3 + x for x in unique_flag]\n",
    "print(unique_flag2)\n",
    "\n",
    "\n",
    "# put together\n",
    "dumcols=unique_protocol2 + unique_service2 + unique_flag2\n",
    "\n",
    "\n",
    "#do it for test set\n",
    "unique_service_test=sorted(df_test.service.unique())\n",
    "unique_service2_test=[string2 + x for x in unique_service_test]\n",
    "testdumcols=unique_protocol2 + unique_service2_test + unique_flag2"
   ]
  },
  {
   "cell_type": "code",
   "execution_count": null,
   "id": "24cb6d10",
   "metadata": {},
   "outputs": [],
   "source": [
    "df_categorical_values_enc=df_categorical_values.apply(LabelEncoder().fit_transform)\n",
    "\n",
    "print(df_categorical_values.head())\n",
    "print('--------------------')\n",
    "print(df_categorical_values_enc.head())\n",
    "\n",
    "# test set\n",
    "testdf_categorical_values_enc=testdf_categorical_values.apply(LabelEncoder().fit_transform)"
   ]
  },
  {
   "cell_type": "code",
   "execution_count": null,
   "id": "542a2a07",
   "metadata": {},
   "outputs": [],
   "source": [
    "enc = OneHotEncoder(categories='auto')\n",
    "df_categorical_values_encenc = enc.fit_transform(df_categorical_values_enc)\n",
    "df_cat_data = pd.DataFrame(df_categorical_values_encenc.toarray(),columns=dumcols)\n",
    "\n",
    "\n",
    "# test set\n",
    "testdf_categorical_values_encenc = enc.fit_transform(testdf_categorical_values_enc)\n",
    "testdf_cat_data = pd.DataFrame(testdf_categorical_values_encenc.toarray(),columns=testdumcols)\n",
    "\n",
    "df_cat_data.head()"
   ]
  },
  {
   "cell_type": "code",
   "execution_count": null,
   "id": "e118b1ca",
   "metadata": {},
   "outputs": [],
   "source": [
    "trainservice=df['service'].tolist()\n",
    "testservice= df_test['service'].tolist()\n",
    "difference=list(set(trainservice) - set(testservice))\n",
    "string = 'service_'\n",
    "difference=[string + x for x in difference]\n",
    "difference"
   ]
  },
  {
   "cell_type": "code",
   "execution_count": null,
   "id": "e5aa183f",
   "metadata": {},
   "outputs": [],
   "source": [
    "for col in difference:\n",
    "    testdf_cat_data[col] = 0\n",
    "\n",
    "print(df_cat_data.shape)    \n",
    "print(testdf_cat_data.shape)"
   ]
  },
  {
   "cell_type": "code",
   "execution_count": null,
   "id": "c376f198",
   "metadata": {},
   "outputs": [],
   "source": [
    "newdf=df.join(df_cat_data)\n",
    "newdf.drop('flag', axis=1, inplace=True)\n",
    "newdf.drop('protocol_type', axis=1, inplace=True)\n",
    "newdf.drop('service', axis=1, inplace=True)\n",
    "\n",
    "# test data\n",
    "newdf_test=df_test.join(testdf_cat_data)\n",
    "newdf_test.drop('flag', axis=1, inplace=True)\n",
    "newdf_test.drop('protocol_type', axis=1, inplace=True)\n",
    "newdf_test.drop('service', axis=1, inplace=True)\n",
    "\n",
    "print(newdf.shape)\n",
    "print(newdf_test.shape)"
   ]
  },
  {
   "cell_type": "code",
   "execution_count": null,
   "id": "7a7565f4",
   "metadata": {},
   "outputs": [],
   "source": [
    "labeldf=newdf['label']\n",
    "labeldf_test=newdf_test['label']\n",
    "\n",
    "\n",
    "# change the label column\n",
    "newlabeldf=labeldf.replace({ 'normal' : 0, 'neptune' : 1 ,'back': 1, 'land': 1, 'pod': 1, 'smurf': 1, 'teardrop': 1,'mailbomb': 1, 'apache2': 1, 'processtable': 1, 'udpstorm': 1, 'worm': 1,\n",
    "                           'ipsweep' : 1,'nmap' : 1,'portsweep' : 1,'satan' : 1,'mscan' : 1,'saint' : 1,\n",
    "                            'ftp_write': 1,'guess_passwd': 1,'imap': 1,'multihop': 1,'phf': 1,'spy': 1,'warezclient': 1,'warezmaster': 1,'sendmail': 1,'named': 1,'snmpgetattack': 1,'snmpguess': 1,'xlock': 1,'xsnoop': 1,'httptunnel': 1,\n",
    "                           'buffer_overflow': 1,'loadmodule': 1,'perl': 1,'rootkit': 1,'ps': 1,'sqlattack': 1,'xterm': 1 })\n",
    "newlabeldf_test=labeldf_test.replace({ 'normal' : 0, 'neptune' : 1 ,'back': 1, 'land': 1, 'pod': 1, 'smurf': 1, 'teardrop': 1,'mailbomb': 1, 'apache2': 1, 'processtable': 1, 'udpstorm': 1, 'worm': 1,\n",
    "                           'ipsweep' : 1,'nmap' : 1,'portsweep' : 1,'satan' : 1,'mscan' : 1,'saint' : 1\n",
    "                           ,'ftp_write': 1,'guess_passwd': 1,'imap': 1,'multihop': 1,'phf': 1,'spy': 1,'warezclient': 1,'warezmaster': 1,'sendmail': 1,'named': 1,'snmpgetattack': 1,'snmpguess': 1,'xlock': 1,'xsnoop': 1,'httptunnel': 1,\n",
    "                           'buffer_overflow': 1,'loadmodule': 1,'perl': 1,'rootkit': 1,'ps': 1,'sqlattack': 1,'xterm': 1})\n",
    "\n",
    "\n",
    "# put the new label column back\n",
    "newdf['label'] = newlabeldf\n",
    "newdf_test['label'] = newlabeldf_test\n",
    "newdf.head()"
   ]
  },
  {
   "cell_type": "code",
   "execution_count": 16,
   "id": "ed5b1429",
   "metadata": {},
   "outputs": [],
   "source": [
    "# Split dataframes into X & Y\n",
    "X_Df = newdf.drop('label', axis=1)  # Explicitly specify axis\n",
    "Y_Df = newdf['label']              # Access label column\n",
    "\n",
    "# Test set\n",
    "X_Df_test = newdf_test.drop('label', axis=1)  # Explicitly specify axis\n",
    "Y_Df_test = newdf_test['label']              # Access label column\n"
   ]
  },
  {
   "cell_type": "code",
   "execution_count": 17,
   "id": "4c19a2f4",
   "metadata": {},
   "outputs": [],
   "source": [
    "colNames=list(X_Df)\n",
    "colNames_test=list(X_Df_test)"
   ]
  },
  {
   "cell_type": "code",
   "execution_count": 18,
   "id": "3327e9dd",
   "metadata": {},
   "outputs": [],
   "source": [
    "scaler1 = preprocessing.StandardScaler().fit(X_Df)\n",
    "X_Df=scaler1.transform(X_Df) \n",
    "\n",
    "# test data\n",
    "scaler5 = preprocessing.StandardScaler().fit(X_Df_test)\n",
    "X_Df_test=scaler5.transform(X_Df_test)"
   ]
  },
  {
   "cell_type": "code",
   "execution_count": null,
   "id": "7cb94810",
   "metadata": {},
   "outputs": [],
   "source": [
    "print(X_Df.shape)"
   ]
  },
  {
   "cell_type": "markdown",
   "id": "ecdc3692",
   "metadata": {},
   "source": [
    "# Naive Bayes\n"
   ]
  },
  {
   "cell_type": "code",
   "execution_count": 20,
   "id": "937c4a7c",
   "metadata": {},
   "outputs": [],
   "source": [
    "# Create Decision Tree classifer object\n",
    "clf_Naive = GaussianNB()\n",
    "train0 = time.time()\n",
    "# Train Decision Tree Classifer\n",
    "clf_Naive = clf_Naive.fit(X_Df, Y_Df.astype(int))\n",
    "train1 = time.time() - train0"
   ]
  },
  {
   "cell_type": "code",
   "execution_count": null,
   "id": "bdb71300",
   "metadata": {},
   "outputs": [],
   "source": [
    "test0 = time.time()\n",
    "Y_Df_pred=clf_Naive.predict(X_Df_test)\n",
    "test1 = time.time() - test0\n",
    "\n",
    "# Create confusion matrix\n",
    "pd.crosstab(Y_Df_test, Y_Df_pred, rownames=['Actual attacks'], colnames=['Predicted attacks'])"
   ]
  },
  {
   "cell_type": "code",
   "execution_count": null,
   "id": "5cc9595c",
   "metadata": {},
   "outputs": [],
   "source": [
    "accuracy = cross_val_score(clf_Naive, X_Df_test, Y_Df_test, cv=10, scoring='accuracy')\n",
    "print(\"Accuracy: %0.5f (+/- %0.5f)\" % (accuracy.mean(), accuracy.std() *2))\n",
    "print(\"Misclasification error : %0.5f\" % (1-accuracy.mean()))\n",
    "precision = cross_val_score(clf_Naive, X_Df_test, Y_Df_test, cv=10, scoring='precision')\n",
    "print(\"Precision: %0.5f (+/- %0.5f)\" % (precision.mean(), precision.std() * 2))\n",
    "recall = cross_val_score(clf_Naive, X_Df_test, Y_Df_test, cv=10, scoring='recall')\n",
    "print(\"Recall: %0.5f (+/- %0.5f)\" % (recall.mean(), recall.std() * 2))\n",
    "f = cross_val_score(clf_Naive, X_Df_test, Y_Df_test, cv=10, scoring='f1')\n",
    "print(\"F-measure: %0.5f (+/- %0.5f)\" % (f.mean(), f.std() * 2))\n",
    "print(\"train_time:%.3fs\\n\" %train1)\n",
    "print(\"test_time:%.3fs\\n\" %test1)"
   ]
  },
  {
   "cell_type": "code",
   "execution_count": null,
   "id": "3620bc41",
   "metadata": {},
   "outputs": [],
   "source": [
    "# ssd"
   ]
  },
  {
   "cell_type": "markdown",
   "id": "ca8311bb",
   "metadata": {},
   "source": [
    "# SVM\n",
    "rbf"
   ]
  },
  {
   "cell_type": "code",
   "execution_count": 24,
   "id": "d7e026df",
   "metadata": {},
   "outputs": [],
   "source": [
    "clf_SVM_Df1=SVC(kernel='rbf', C=1.0, random_state=0)"
   ]
  },
  {
   "cell_type": "code",
   "execution_count": 25,
   "id": "86ca1f8c",
   "metadata": {},
   "outputs": [],
   "source": [
    "train0 = time.time()"
   ]
  },
  {
   "cell_type": "code",
   "execution_count": null,
   "id": "868a217b",
   "metadata": {},
   "outputs": [],
   "source": [
    "clf_SVM_Df1.fit(X_Df, Y_Df.astype(int))"
   ]
  },
  {
   "cell_type": "code",
   "execution_count": 26,
   "id": "971bce0c",
   "metadata": {},
   "outputs": [],
   "source": [
    "clf_SVM_Df1=SVC(kernel='rbf', C=1.0, random_state=0)\n",
    "train0 = time.time()\n",
    "clf_SVM_Df1.fit(X_Df, Y_Df.astype(int))\n",
    "train1 = time.time() - train0"
   ]
  },
  {
   "cell_type": "code",
   "execution_count": null,
   "id": "25bae512",
   "metadata": {},
   "outputs": [],
   "source": [
    "test0 = time.time()\n",
    "Y_Df_pred=clf_SVM_Df1.predict(X_Df_test)\n",
    "test1 = time.time() - test0\n",
    "\n",
    "# Create confusion matrix\n",
    "pd.crosstab(Y_Df_test, Y_Df_pred, rownames=['Actual attacks'], colnames=['Predicted attacks'])"
   ]
  },
  {
   "cell_type": "code",
   "execution_count": null,
   "id": "ec9cbcd4",
   "metadata": {
    "scrolled": true
   },
   "outputs": [],
   "source": [
    "from sklearn.model_selection import cross_val_score\n",
    "from sklearn import metrics\n",
    "accuracy = cross_val_score(clf_SVM_Df1, X_Df_test, Y_Df_test, cv=10, scoring='accuracy')\n",
    "print(\"Accuracy: %0.5f (+/- %0.5f)\" % (accuracy.mean(), accuracy.std() * 2))\n",
    "print(\"misclasification error : %0.5f\" % (1-accuracy.mean()))\n",
    "precision = cross_val_score(clf_SVM_Df1, X_Df_test, Y_Df_test, cv=10, scoring='precision')\n",
    "print(\"Precision: %0.5f (+/- %0.5f)\" % (precision.mean(), precision.std() * 2))\n",
    "recall = cross_val_score(clf_SVM_Df1, X_Df_test, Y_Df_test, cv=10, scoring='recall')\n",
    "print(\"Recall: %0.5f (+/- %0.5f)\" % (recall.mean(), recall.std() * 2))\n",
    "f = cross_val_score(clf_SVM_Df1, X_Df_test, Y_Df_test, cv=10, scoring='f1')\n",
    "print(\"F-measure: %0.5f (+/- %0.5f)\" % (f.mean(), f.std() * 2))\n",
    "print(\"train_time:%.3fs\\n\" %train1)\n",
    "print(\"test_time:%.3fs\\n\" %test1)"
   ]
  },
  {
   "cell_type": "markdown",
   "id": "b22f0338",
   "metadata": {},
   "source": [
    "SVM Poly\n"
   ]
  },
  {
   "cell_type": "code",
   "execution_count": 29,
   "id": "28f63426",
   "metadata": {},
   "outputs": [],
   "source": [
    "clf_SVM_Df2=SVC(kernel='poly', C=1.0, random_state=0)\n",
    "train0 = time.time()\n",
    "clf_SVM_Df2.fit(X_Df, Y_Df.astype(int))\n",
    "train1 = time.time() - train0"
   ]
  },
  {
   "cell_type": "code",
   "execution_count": null,
   "id": "43663c91",
   "metadata": {},
   "outputs": [],
   "source": [
    "test0 = time.time()\n",
    "Y_Df_pred=clf_SVM_Df2.predict(X_Df_test)\n",
    "test1 = time.time() - test0\n",
    "\n",
    "# Create confusion matrix\n",
    "pd.crosstab(Y_Df_test, Y_Df_pred, rownames=['Actual attacks'], colnames=['Predicted attacks'])"
   ]
  },
  {
   "cell_type": "code",
   "execution_count": null,
   "id": "4ccd67cd",
   "metadata": {},
   "outputs": [],
   "source": [
    "from sklearn.model_selection import cross_val_score\n",
    "from sklearn import metrics\n",
    "accuracy = cross_val_score(clf_SVM_Df2, X_Df_test, Y_Df_test, cv=10, scoring='accuracy')\n",
    "print(\"Accuracy: %0.5f (+/- %0.5f)\" % (accuracy.mean(), accuracy.std() * 2))\n",
    "print(\"Misclasification error : %0.5f\" % (1-accuracy.mean()))\n",
    "precision = cross_val_score(clf_SVM_Df2, X_Df_test, Y_Df_test, cv=10, scoring='precision')\n",
    "print(\"Precision: %0.5f (+/- %0.5f)\" % (precision.mean(), precision.std() * 2))\n",
    "recall = cross_val_score(clf_SVM_Df2, X_Df_test, Y_Df_test, cv=10, scoring='recall')\n",
    "print(\"Recall: %0.5f (+/- %0.5f)\" % (recall.mean(), recall.std() * 2))\n",
    "f = cross_val_score(clf_SVM_Df2, X_Df_test, Y_Df_test, cv=10, scoring='f1')\n",
    "print(\"F-measure: %0.5f (+/- %0.5f)\" % (f.mean(), f.std() * 2))\n",
    "print(\"train_time:%.3fs\\n\" %train1)\n",
    "print(\"test_time:%.3fs\\n\" %test1)"
   ]
  },
  {
   "cell_type": "markdown",
   "id": "00cfe00b",
   "metadata": {},
   "source": [
    "SVM Sigmoid"
   ]
  },
  {
   "cell_type": "code",
   "execution_count": 32,
   "id": "a5cbacaf",
   "metadata": {},
   "outputs": [],
   "source": [
    "clf_SVM_Df3=SVC(kernel='sigmoid', C=1.0, random_state=0)\n",
    "train0 = time.time()\n",
    "clf_SVM_Df3.fit(X_Df, Y_Df.astype(int))\n",
    "train1 = time.time() - train0"
   ]
  },
  {
   "cell_type": "code",
   "execution_count": null,
   "id": "a2198074",
   "metadata": {},
   "outputs": [],
   "source": [
    "test0 = time.time()\n",
    "Y_Df_pred=clf_SVM_Df3.predict(X_Df_test)\n",
    "test1 = time.time() - test0\n",
    "\n",
    "# Create confusion matrix\n",
    "pd.crosstab(Y_Df_test, Y_Df_pred, rownames=['Actual attacks'], colnames=['Predicted attacks'])"
   ]
  },
  {
   "cell_type": "code",
   "execution_count": null,
   "id": "11bcee85",
   "metadata": {},
   "outputs": [],
   "source": [
    "accuracy = cross_val_score(clf_SVM_Df3, X_Df_test, Y_Df_test, cv=10, scoring='accuracy')\n",
    "print(\"Accuracy: %0.5f (+/- %0.5f)\" % (accuracy.mean(), accuracy.std() * 2))\n",
    "print(\"Misclasification error : %0.5f\" % (1-accuracy.mean()))\n",
    "precision = cross_val_score(clf_SVM_Df3, X_Df_test, Y_Df_test, cv=10, scoring='precision')\n",
    "print(\"Precision: %0.5f (+/- %0.5f)\" % (precision.mean(), precision.std() * 2))\n",
    "recall = cross_val_score(clf_SVM_Df3, X_Df_test, Y_Df_test, cv=10, scoring='recall')\n",
    "print(\"Recall: %0.5f (+/- %0.5f)\" % (recall.mean(), recall.std() * 2))\n",
    "f = cross_val_score(clf_SVM_Df3, X_Df_test, Y_Df_test, cv=10, scoring='f1')\n",
    "print(\"F-measure: %0.5f (+/- %0.5f)\" % (f.mean(), f.std() * 2))\n",
    "print(\"train_time:%.3fs\\n\" %train1)\n",
    "print(\"test_time:%.3fs\\n\" %test1)"
   ]
  },
  {
   "cell_type": "code",
   "execution_count": null,
   "id": "a56e650a",
   "metadata": {},
   "outputs": [],
   "source": []
  }
 ],
 "metadata": {
  "kernelspec": {
   "display_name": ".venv",
   "language": "python",
   "name": "python3"
  },
  "language_info": {
   "codemirror_mode": {
    "name": "ipython",
    "version": 3
   },
   "file_extension": ".py",
   "mimetype": "text/x-python",
   "name": "python",
   "nbconvert_exporter": "python",
   "pygments_lexer": "ipython3",
   "version": "3.12.2"
  }
 },
 "nbformat": 4,
 "nbformat_minor": 5
}
